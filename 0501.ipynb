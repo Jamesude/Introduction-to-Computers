{
  "nbformat": 4,
  "nbformat_minor": 0,
  "metadata": {
    "colab": {
      "provenance": [],
      "authorship_tag": "ABX9TyOrROVAHzEHkiLdYF5Hrp1v",
      "include_colab_link": true
    },
    "kernelspec": {
      "name": "python3",
      "display_name": "Python 3"
    },
    "language_info": {
      "name": "python"
    }
  },
  "cells": [
    {
      "cell_type": "markdown",
      "metadata": {
        "id": "view-in-github",
        "colab_type": "text"
      },
      "source": [
        "<a href=\"https://colab.research.google.com/github/Jamesude/Introduction-to-Computers/blob/main/0501.ipynb\" target=\"_parent\"><img src=\"https://colab.research.google.com/assets/colab-badge.svg\" alt=\"Open In Colab\"/></a>"
      ]
    },
    {
      "cell_type": "code",
      "execution_count": 1,
      "metadata": {
        "colab": {
          "base_uri": "https://localhost:8080/"
        },
        "id": "4KcX65sGhoCx",
        "outputId": "53c2fe1e-c428-4505-d2ce-081c0a3637d2"
      },
      "outputs": [
        {
          "output_type": "stream",
          "name": "stdout",
          "text": [
            "0501\n"
          ]
        }
      ],
      "source": [
        "\n",
        "print(\"0501\")"
      ]
    },
    {
      "cell_type": "code",
      "source": [
        "print(\"Hello World\")"
      ],
      "metadata": {
        "colab": {
          "base_uri": "https://localhost:8080/"
        },
        "id": "LjC9dVA2iHLt",
        "outputId": "cc169140-4b76-4019-fa1b-d561d2f99a17"
      },
      "execution_count": 2,
      "outputs": [
        {
          "output_type": "stream",
          "name": "stdout",
          "text": [
            "Hello World\n"
          ]
        }
      ]
    },
    {
      "cell_type": "code",
      "source": [
        "\n",
        "F = int(input(\"華氏溫度為:\"))"
      ],
      "metadata": {
        "colab": {
          "base_uri": "https://localhost:8080/"
        },
        "id": "F4OjOTeUiMre",
        "outputId": "8ead8f23-dc1a-4054-d04b-e6ec0cf54494"
      },
      "execution_count": 3,
      "outputs": [
        {
          "name": "stdout",
          "output_type": "stream",
          "text": [
            "華氏溫度為:100\n"
          ]
        }
      ]
    },
    {
      "cell_type": "code",
      "source": [
        "\n",
        "攝氏溫度 = (F-32)*5/9"
      ],
      "metadata": {
        "id": "jYpChqL0iRDV"
      },
      "execution_count": 4,
      "outputs": []
    },
    {
      "cell_type": "code",
      "source": [
        "\n",
        "攝氏溫度\n"
      ],
      "metadata": {
        "colab": {
          "base_uri": "https://localhost:8080/"
        },
        "id": "ifJZ_96QiUIX",
        "outputId": "d0a06f97-a6b5-4371-a5ea-2c4e7a75f5c8"
      },
      "execution_count": 5,
      "outputs": [
        {
          "output_type": "execute_result",
          "data": {
            "text/plain": [
              "37.77777777777778"
            ]
          },
          "metadata": {},
          "execution_count": 5
        }
      ]
    },
    {
      "cell_type": "code",
      "source": [
        "\n",
        "print(type(攝氏溫度))"
      ],
      "metadata": {
        "colab": {
          "base_uri": "https://localhost:8080/"
        },
        "id": "OAMqGnjriYOW",
        "outputId": "b8e39287-a910-41e1-d47a-a56b14b45fba"
      },
      "execution_count": 6,
      "outputs": [
        {
          "output_type": "stream",
          "name": "stdout",
          "text": [
            "<class 'float'>\n"
          ]
        }
      ]
    },
    {
      "cell_type": "code",
      "source": [
        "\n",
        "print(str('%.1f' % 攝氏溫度))"
      ],
      "metadata": {
        "colab": {
          "base_uri": "https://localhost:8080/"
        },
        "id": "eZ3fkU4QibnB",
        "outputId": "731a7aa5-1c13-4f93-82f1-dd41a6892227"
      },
      "execution_count": 7,
      "outputs": [
        {
          "output_type": "stream",
          "name": "stdout",
          "text": [
            "37.8\n"
          ]
        }
      ]
    },
    {
      "cell_type": "code",
      "source": [
        "tmp = 0\n",
        "for i in range(1,6):\n",
        "  tmp +=i\n",
        "  print(\"%d\" % tmp)\n",
        "     "
      ],
      "metadata": {
        "colab": {
          "base_uri": "https://localhost:8080/"
        },
        "id": "RZANoPtsifM_",
        "outputId": "417fb96e-0c1c-4424-b96c-07cb496d76fd"
      },
      "execution_count": 8,
      "outputs": [
        {
          "output_type": "stream",
          "name": "stdout",
          "text": [
            "1\n",
            "3\n",
            "6\n",
            "10\n",
            "15\n"
          ]
        }
      ]
    },
    {
      "cell_type": "code",
      "source": [
        "\n",
        "本金 = int(input(\"請輸入本金存款金額:\"))"
      ],
      "metadata": {
        "colab": {
          "base_uri": "https://localhost:8080/"
        },
        "id": "G5ziCfbwiipX",
        "outputId": "3989a750-f09d-432b-e335-61137ac0be2f"
      },
      "execution_count": 9,
      "outputs": [
        {
          "name": "stdout",
          "output_type": "stream",
          "text": [
            "請輸入本金存款金額:10000\n"
          ]
        }
      ]
    },
    {
      "cell_type": "code",
      "source": [
        "時間 = int(input(\"請輸入年數:\"))"
      ],
      "metadata": {
        "colab": {
          "base_uri": "https://localhost:8080/"
        },
        "id": "lkPaNY6PipYW",
        "outputId": "5b6a4163-7074-4bd4-af2c-99cc5680a547"
      },
      "execution_count": 10,
      "outputs": [
        {
          "name": "stdout",
          "output_type": "stream",
          "text": [
            "請輸入年數:6\n"
          ]
        }
      ]
    },
    {
      "cell_type": "code",
      "source": [
        "\n",
        "未來本金 = 本金*(1+0.02)**6"
      ],
      "metadata": {
        "id": "LTJu3OH2ittV"
      },
      "execution_count": 11,
      "outputs": []
    },
    {
      "cell_type": "code",
      "source": [
        "未來本金"
      ],
      "metadata": {
        "colab": {
          "base_uri": "https://localhost:8080/"
        },
        "id": "WoRRzYe-iwm7",
        "outputId": "abde2b05-74bb-4ee5-8790-94b5d90d8547"
      },
      "execution_count": 12,
      "outputs": [
        {
          "output_type": "execute_result",
          "data": {
            "text/plain": [
              "11261.62419264"
            ]
          },
          "metadata": {},
          "execution_count": 12
        }
      ]
    },
    {
      "cell_type": "code",
      "source": [
        "\n",
        "print(\"6年後存款為:\",未來本金)"
      ],
      "metadata": {
        "colab": {
          "base_uri": "https://localhost:8080/"
        },
        "id": "jPgyDuGAi0bj",
        "outputId": "67407f1d-daae-463f-d86d-14c4c2944800"
      },
      "execution_count": 13,
      "outputs": [
        {
          "output_type": "stream",
          "name": "stdout",
          "text": [
            "6年後存款為: 11261.62419264\n"
          ]
        }
      ]
    }
  ]
}