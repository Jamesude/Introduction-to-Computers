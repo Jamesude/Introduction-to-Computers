{
  "nbformat": 4,
  "nbformat_minor": 0,
  "metadata": {
    "colab": {
      "provenance": [],
      "authorship_tag": "ABX9TyPbxvVPS6biB7WPZUaLrLW5",
      "include_colab_link": true
    },
    "kernelspec": {
      "name": "python3",
      "display_name": "Python 3"
    },
    "language_info": {
      "name": "python"
    }
  },
  "cells": [
    {
      "cell_type": "markdown",
      "metadata": {
        "id": "view-in-github",
        "colab_type": "text"
      },
      "source": [
        "<a href=\"https://colab.research.google.com/github/Jamesude/Introduction-to-Computers/blob/main/0515.ipynb\" target=\"_parent\"><img src=\"https://colab.research.google.com/assets/colab-badge.svg\" alt=\"Open In Colab\"/></a>"
      ]
    },
    {
      "cell_type": "code",
      "execution_count": 1,
      "metadata": {
        "colab": {
          "base_uri": "https://localhost:8080/"
        },
        "id": "bQi6APgYt3mL",
        "outputId": "65ab12d1-cd54-4af9-a35b-02cffcd90132"
      },
      "outputs": [
        {
          "output_type": "stream",
          "name": "stdout",
          "text": [
            "0515\n"
          ]
        }
      ],
      "source": [
        "print('0515')"
      ]
    },
    {
      "cell_type": "code",
      "source": [
        "rain=str(input(\"今天會下雨嗎?\"))\n",
        "if(rain==\"y\" or rain==\"Y\"):\n",
        " print(\"出門記得帶傘!\")\n",
        "elif(rain==\"n\" or rain==\"N\"):\n",
        " print(\"今天天氣很好，出門不用帶傘\")\n",
        "else:\n",
        " print(\"輸入錯誤\")"
      ],
      "metadata": {
        "colab": {
          "base_uri": "https://localhost:8080/"
        },
        "id": "zwIIFHPQuKmR",
        "outputId": "649ecb6a-8886-4673-a97f-174b135e3303"
      },
      "execution_count": 6,
      "outputs": [
        {
          "output_type": "stream",
          "name": "stdout",
          "text": [
            "今天會下雨嗎?s\n",
            "輸入錯誤\n"
          ]
        }
      ]
    },
    {
      "cell_type": "code",
      "source": [
        "temperture=float(input(\"請輸入體溫\"))\n",
        "if(temperture>=37.5):\n",
        " print(\"體溫過高\")\n",
        "elif(37.4>temperture>34):\n",
        "  print(\"體溫略高\")\n",
        "elif(36.9>temperture>34):\n",
        "  print(\"體溫正常\")\n",
        "else:\n",
        "  print(\"體溫異常，請重新測量!\")"
      ],
      "metadata": {
        "colab": {
          "base_uri": "https://localhost:8080/"
        },
        "id": "nVQLiU7NvdjY",
        "outputId": "e0723332-01e3-4fc4-c5b1-63b81c981599"
      },
      "execution_count": 7,
      "outputs": [
        {
          "output_type": "stream",
          "name": "stdout",
          "text": [
            "請輸入體溫30\n",
            "體溫異常，請重新測量!\n"
          ]
        }
      ]
    },
    {
      "cell_type": "code",
      "source": [
        "score=int(input(\"請輸入成績\"))\n",
        "if(score>=90):\n",
        "  print(\"A\")\n",
        "elif(89>score>80):\n",
        "  print(\"B\")\n",
        "elif(79>score>70):\n",
        "  print(\"C\")\n",
        "elif(69>score>60):\n",
        "  print(\"D\")\n",
        "else:\n",
        "  print(\"E\")"
      ],
      "metadata": {
        "colab": {
          "base_uri": "https://localhost:8080/"
        },
        "id": "igPr1R3Rwi_w",
        "outputId": "ba040223-40f1-42a9-ace6-bfdfa46d5311"
      },
      "execution_count": 8,
      "outputs": [
        {
          "output_type": "stream",
          "name": "stdout",
          "text": [
            "請輸入成績90\n",
            "A\n"
          ]
        }
      ]
    },
    {
      "cell_type": "code",
      "source": [
        "month=int(input(\"請輸入月份:\"))\n",
        "if(month in [3,4,5]):\n",
        "  print(f\"{month}月是春天!\")\n",
        "elif(month in [6,7,8]):\n",
        "  print(f\"{month}月是夏天!\")\n",
        "elif(month in [9,10,11]):\n",
        "  print(f\"{month}月是秋天!\")\n",
        "elif(month in [12,1,2]):\n",
        "  print(f\"{month}月是冬天!\")\n",
        "else:\n",
        "  print(\"月份不再範圍內\")"
      ],
      "metadata": {
        "colab": {
          "base_uri": "https://localhost:8080/"
        },
        "id": "DXG5Q6PQxY4B",
        "outputId": "003b8f6f-1750-49ec-f637-548222d23109"
      },
      "execution_count": 9,
      "outputs": [
        {
          "output_type": "stream",
          "name": "stdout",
          "text": [
            "請輸入月份:15\n",
            "月份不再範圍內\n"
          ]
        }
      ]
    },
    {
      "cell_type": "code",
      "source": [
        "income=int(input(\"請輸入收入金額:\"))\n",
        "if(income>=2000000):\n",
        "  rate=0.3\n",
        "elif(income>=1000000):\n",
        "  rate=0.21\n",
        "elif(income>=600000):\n",
        "  rate=0.13\n",
        "elif(income>=300000):\n",
        "  rate=0.06\n",
        "else:\n",
        "  rate=0\n",
        "\n",
        "tax=income*rate\n",
        "print(f\"所得稅金額為:{tax}\")"
      ],
      "metadata": {
        "colab": {
          "base_uri": "https://localhost:8080/"
        },
        "id": "a7Bf_70ny1F4",
        "outputId": "1e3ab4b1-ce02-444a-8113-1f960a5e219d"
      },
      "execution_count": 10,
      "outputs": [
        {
          "output_type": "stream",
          "name": "stdout",
          "text": [
            "請輸入收入金額:20000\n",
            "所得稅金額為:0\n"
          ]
        }
      ]
    }
  ]
}